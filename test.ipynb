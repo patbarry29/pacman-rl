{
 "cells": [
  {
   "cell_type": "code",
   "execution_count": 1,
   "id": "26c42682",
   "metadata": {},
   "outputs": [],
   "source": [
    "import numpy as np"
   ]
  },
  {
   "cell_type": "code",
   "execution_count": null,
   "id": "7e562af5",
   "metadata": {},
   "outputs": [],
   "source": [
    "def add_ghosts(grid, num_ghosts):\n",
    "    ghosts = set()\n",
    "    while len(ghosts) < num_ghosts:\n",
    "        row = np.random.randint(0, grid.shape[0])\n",
    "        col = np.random.randint(0, grid.shape[1])\n",
    "        ghosts.add((row, col))\n",
    "\n",
    "    ghosts = np.array(list(ghosts))\n",
    "\n",
    "    grid[ghosts[:, 0], ghosts[:, 1]] = 1\n",
    "\n",
    "    return grid"
   ]
  },
  {
   "cell_type": "code",
   "execution_count": null,
   "id": "ff80a1c3",
   "metadata": {},
   "outputs": [],
   "source": [
    "def make_grid(N, M, num_ghosts, block_ratio):\n",
    "    height = N\n",
    "    width = M\n",
    "    grid = np.zeros((height, width))\n",
    "\n",
    "    # Generate unique ghost positions\n",
    "\n",
    "    grid = add_ghosts(grid, num_ghosts)\n",
    "\n",
    "    num_blocks = block_ratio * (N*M)\n",
    "\n",
    "    return grid"
   ]
  },
  {
   "cell_type": "code",
   "execution_count": 45,
   "id": "7b90f1d3",
   "metadata": {},
   "outputs": [
    {
     "data": {
      "text/plain": [
       "array([[1., 1., 0., 0., 0.],\n",
       "       [0., 0., 0., 0., 0.],\n",
       "       [0., 0., 0., 0., 0.],\n",
       "       [0., 1., 1., 0., 0.],\n",
       "       [0., 0., 0., 0., 0.]])"
      ]
     },
     "execution_count": 45,
     "metadata": {},
     "output_type": "execute_result"
    }
   ],
   "source": [
    "make_grid(5,5,4,3)"
   ]
  },
  {
   "cell_type": "code",
   "execution_count": null,
   "id": "fa31b0b6",
   "metadata": {},
   "outputs": [],
   "source": []
  }
 ],
 "metadata": {
  "kernelspec": {
   "display_name": "3.11.9",
   "language": "python",
   "name": "python3"
  },
  "language_info": {
   "codemirror_mode": {
    "name": "ipython",
    "version": 3
   },
   "file_extension": ".py",
   "mimetype": "text/x-python",
   "name": "python",
   "nbconvert_exporter": "python",
   "pygments_lexer": "ipython3",
   "version": "3.11.9"
  }
 },
 "nbformat": 4,
 "nbformat_minor": 5
}
